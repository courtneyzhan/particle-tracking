{
 "cells": [
  {
   "cell_type": "markdown",
   "id": "e9bb3373",
   "metadata": {},
   "source": [
    "# Identifying Particles\n",
    "\n",
    "Import necessary python libraries"
   ]
  },
  {
   "cell_type": "code",
   "execution_count": 1,
   "id": "fb0522b1",
   "metadata": {},
   "outputs": [],
   "source": [
    "%matplotlib inline\n",
    "import sys\n",
    "sys.path.append(\"..\") # Adds the module to path"
   ]
  },
  {
   "cell_type": "code",
   "execution_count": 2,
   "id": "88d3e722",
   "metadata": {},
   "outputs": [
    {
     "name": "stdout",
     "output_type": "stream",
     "text": [
      "Import Complete\n"
     ]
    }
   ],
   "source": [
    "import deeptrack as dt\n",
    "import keras\n",
    "import matplotlib.pyplot as plt\n",
    "from matplotlib import image\n",
    "import numpy as np\n",
    "import pandas as pd\n",
    "import random\n",
    "from sklearn.preprocessing import StandardScaler\n",
    "from sklearn.model_selection import train_test_split\n",
    "import tensorflow as tf\n",
    "from tensorflow.keras import datasets, layers, models\n",
    "\n",
    "# Set seeds\n",
    "random.seed(14)\n",
    "np.random.seed(0)\n",
    "\n",
    "print(\"Import Complete\")"
   ]
  },
  {
   "cell_type": "markdown",
   "id": "b571439a",
   "metadata": {},
   "source": [
    "## Plot one Sample Image and it's Label"
   ]
  },
  {
   "cell_type": "code",
   "execution_count": 3,
   "id": "8c09c42d",
   "metadata": {},
   "outputs": [],
   "source": [
    "# # Load in single image\n",
    "# img_data = image.imread('/Users/zhimin/Courtney/winter_research/data/dataset/image1.jpg')\n",
    "\n",
    "# # Convert to DeepTrack 2.0 Feature\n",
    "# img_data = dt.features.Dataset(img_data)\n",
    "# output_image = img_data.resolve()\n",
    "\n",
    "# # Display image\n",
    "# plt.imshow(output_image)\n",
    "\n",
    "# # Load in Labels\n",
    "# dataset = pd.read_csv('/Users/zhimin/Courtney/winter_research/data/csv/data.csv')\n",
    "# dataset = np.array(dataset)\n",
    "\n",
    "# dataset = dataset / 2.0 - 1\n",
    "# print(dataset[:, 0:5])\n",
    "\n",
    "# label = dataset[0]\n",
    "# print(label)\n",
    "\n",
    "# # Plot single image against label position\n",
    "# plt.imshow(np.squeeze(output_image), cmap='gray')\n",
    "# plt.scatter(label[1], label[0], c=\"r\", marker=\"x\") # 1-indexed, compensate with -1\n",
    "# plt.show()"
   ]
  },
  {
   "cell_type": "markdown",
   "id": "9bb71552",
   "metadata": {},
   "source": [
    "## Plot Multiple Sample Images and it's Labels"
   ]
  },
  {
   "cell_type": "code",
   "execution_count": 4,
   "id": "72af31c7",
   "metadata": {},
   "outputs": [],
   "source": [
    "# # ==========================================\n",
    "# # Load in all images\n",
    "# all_images = []\n",
    "# for i in range(0, NUM_OF_IMAGES):\n",
    "#     image_name = 'image' + str(i + 1) + '.jpg'\n",
    "#     img_data = image.imread('/Users/zhimin/Courtney/winter_research/data/dataset/' + image_name)\n",
    "#     all_images.append(img_data)\n",
    "\n",
    "# print(\"Finished loading all images\")\n",
    "\n",
    "# img_data = all_images[0]\n",
    "# img_data = dt.features.Dataset(img_data)\n",
    "# output_image = img_data.resolve()\n",
    "# plt.imshow(np.squeeze(output_image), cmap='gray')\n",
    "\n",
    "# # Load in Labels\n",
    "# dataset = pd.read_csv('/Users/zhimin/Courtney/winter_research/data/csv/data.csv')\n",
    "# dataset = np.array(dataset, dtype=\"float64\")\n",
    "# dataset = dataset / 2.0 - 1 # div 2 for fractional units, -1 to offset MATLAB 1-index\n",
    "\n",
    "# # ==========================================\n",
    "# # Sample a few points to show the true label\n",
    "# chosen = [0, 6, 266, 977]\n",
    "# for i in chosen:\n",
    "#     # Select image plot\n",
    "#     img_data = all_images[i]\n",
    "#     img_data = dt.features.Dataset(img_data)\n",
    "#     output_image = img_data.resolve()\n",
    "    \n",
    "#     # Display image grayscale\n",
    "#     plt.imshow(np.squeeze(output_image), cmap='gray')\n",
    "    \n",
    "#     # Load in label for selected data\n",
    "#     label = dataset[i]\n",
    "#     print(label)\n",
    "\n",
    "#     # Show image with true label\n",
    "# #     plt.imshow(np.squeeze(output_image), cmap='gray')\n",
    "# #     plt.scatter(label[1], label[0], c=\"r\", marker=\"x\") # 1-indexed, compensate with -1\n",
    "# #     plt.show()\n",
    "# original_all_images = all_images.copy()\n",
    "\n"
   ]
  },
  {
   "cell_type": "markdown",
   "id": "6785c20f",
   "metadata": {},
   "source": [
    "## Loading in Images\n",
    "Graph images, verify that the gold-standard center is accurate enough"
   ]
  },
  {
   "cell_type": "markdown",
   "id": "f82bf80f",
   "metadata": {},
   "source": [
    "# Defining Constants  \n",
    "\n",
    "### Input Relevant Constants  \n",
    "`NUM_OF_IMAGES`: Total number of images to load in  \n",
    "`MAX_WIDTH`: Dimension of the final image to be used *after* displacing the particle  \n",
    "`FRACTIONAL_UNIT`: Same value as the changed parameter in MATLAB (not the exact fractional unit). In MATLAB, the fractional unit is $2^X$, where $X$ is the value changed. \n",
    "\n",
    "### Model Training Relevant Constants  \n",
    "`TEST_SIZE`: The fraction of data to be used for testing (value between 0.0 to 1.0)  \n",
    "`SHUFFLE_ON`: Whether to shuffle the training/testing set  \n",
    "`NUM_EPOCHS`: The number of training epochs  \n",
    "\n",
    "### Model Testing Relevant Constants  \n",
    "`COORD_EPSILON`: The acceptable difference between predicted and actual values to be considered 'accurate'  "
   ]
  },
  {
   "cell_type": "code",
   "execution_count": 5,
   "id": "c7cc3d00",
   "metadata": {},
   "outputs": [],
   "source": [
    "# Input\n",
    "NUM_OF_IMAGES = 1000\n",
    "MAX_WIDTH     = 101\n",
    "FRACTIONAL_UNIT = 1 # corresponds to the fractional unit in MATLAB (X in 2^X)\n",
    "SIZE_OF_PARTICLE = 22 # 22 by 22 area in the center of the image.\n",
    "\n",
    "# Model Training\n",
    "TEST_SIZE     = 0.2\n",
    "SHUFFLE_ON    = False # shuffle training/testing set\n",
    "NUM_EPOCHS    = 500\n",
    "\n",
    "# Model Testing\n",
    "COORD_EPSILON = 1.0   # acceptable difference to be considered 'accurate'"
   ]
  },
  {
   "cell_type": "code",
   "execution_count": null,
   "id": "cd11ad8e",
   "metadata": {},
   "outputs": [],
   "source": []
  },
  {
   "cell_type": "code",
   "execution_count": 6,
   "id": "a2b68c0b",
   "metadata": {},
   "outputs": [
    {
     "name": "stdout",
     "output_type": "stream",
     "text": [
      "(1000, 101, 101)\n"
     ]
    },
    {
     "data": {
      "image/png": "[encoded data removed]",
      "text/plain": [
       "<Figure size 432x288 with 1 Axes>"
      ]
     },
     "metadata": {
      "needs_background": "light"
     },
     "output_type": "display_data"
    }
   ],
   "source": [
    "# # Load in all images\n",
    "all_images = []\n",
    "for i in range(0, NUM_OF_IMAGES):\n",
    "    image_name = 'image' + str(i + 1) + '.jpg'\n",
    "    img_data = image.imread('/Users/zhimin/Courtney/winter_research/data/dataset/' + image_name)\n",
    "    all_images.append(img_data)\n",
    "original_all_images = all_images.copy()\n",
    "\n",
    "# Load in Labels\n",
    "# dataset = pd.read_csv('/Users/zhimin/Courtney/winter_research/data/csv/data.csv')\n",
    "dataset = pd.read_csv('/Users/zhimin/Courtney/winter_research/data/7-Jul-unsuppressed/csv/data.csv')\n",
    "\n",
    "dataset = np.array(dataset, dtype=\"float64\")\n",
    "dataset = dataset / (2.0**FRACTIONAL_UNIT) - 1\n",
    "\n",
    "\n",
    "new_all_images = []\n",
    "\n",
    "# Load in images and displace them. Update labels accordingly.\n",
    "for i in range(1, NUM_OF_IMAGES + 1):\n",
    "#     img_data = image.imread('/Users/zhimin/Courtney/winter_research/data/dataset/image' + str(i) + '.jpg')\n",
    "    img_data = image.imread('/Users/zhimin/Courtney/winter_research/data/7-Jul-unsuppressed/dataset/rimage' + str(i) + '.jpg')\n",
    "\n",
    "    particle_only = img_data[SIZE_OF_PARTICLE:-1 * SIZE_OF_PARTICLE, SIZE_OF_PARTICLE:-1 * SIZE_OF_PARTICLE]\n",
    "    offset = 2 * SIZE_OF_PARTICLE\n",
    "    \n",
    "    rand_x = random.randint(0, 2 * SIZE_OF_PARTICLE)\n",
    "    rand_y = random.randint(0, 2 * SIZE_OF_PARTICLE)\n",
    "    \n",
    "    displaced = np.pad(particle_only, ((rand_x, offset - rand_x), (rand_y, offset - rand_y)), 'constant')\n",
    "    \n",
    "    # Add new images and labels\n",
    "    new_all_images.append(displaced)\n",
    "    \n",
    "    new_x = dataset[i - 1][0] - SIZE_OF_PARTICLE + rand_x\n",
    "    new_y = dataset[i - 1][1] - SIZE_OF_PARTICLE + rand_y\n",
    "    dataset[i - 1] = [new_x, new_y, dataset[i - 1][2]]\n",
    "    \n",
    "new_all_images = np.array(new_all_images)\n",
    "print(new_all_images.shape)\n",
    "# print(new_all_images.shape)\n",
    "plt.imshow(np.squeeze(new_all_images[0]), cmap='gray')\n",
    "label = dataset[0]\n",
    "plt.scatter(label[1], label[0], c=\"y\", marker=\"x\") # 1-indexed, compensate with -1\n",
    "plt.show()"
   ]
  },
  {
   "cell_type": "markdown",
   "id": "2304426b",
   "metadata": {},
   "source": [
    "## Training NN\n",
    "It seems like the labels can only be a single value, so the way it is currently working on it, is to have a separate CNN for x- and y- labels. When combined, they will give the center position attribute for the cell."
   ]
  },
  {
   "cell_type": "code",
   "execution_count": 7,
   "id": "2f3788db",
   "metadata": {},
   "outputs": [],
   "source": [
    "SHUFFLE_ON = True\n",
    "X_train, X_test, Y_train, Y_test = train_test_split(new_all_images, dataset, test_size=TEST_SIZE, shuffle=SHUFFLE_ON)\n",
    "\n",
    "# Labels into individual sets.\n",
    "train_x_labels = np.zeros(800)\n",
    "train_y_labels = np.zeros(800)\n",
    "train_angle_labels = np.zeros(800)\n",
    "\n",
    "train_position_labels = []\n",
    "\n",
    "test_x_labels = np.zeros(200)\n",
    "test_y_labels = np.zeros(200)\n",
    "test_angle_labels = np.zeros(200)\n",
    "test_position_labels = []\n",
    "\n",
    "# Split by x, y coordinates\n",
    "count = 0\n",
    "for elem in Y_train:\n",
    "    train_x_labels[count] = elem[0]\n",
    "    train_y_labels[count] = elem[1]\n",
    "    train_angle_labels[count] = elem[2]\n",
    "    train_position_labels.append((elem[0], elem[1]))\n",
    "    count += 1\n",
    "\n",
    "count = 0\n",
    "for elem in Y_test:\n",
    "    test_x_labels[count] = elem[0]\n",
    "    test_y_labels[count] = elem[1]\n",
    "    test_angle_labels[count] = elem[2]\n",
    "\n",
    "    test_position_labels.append((elem[0], elem[1]))\n",
    "    count += 1\n",
    "\n",
    "# X_train, X_test, Y_x_train, Y_x_test = train_test_split(new_all_images, x_dataset, shuffle=False)\n",
    "\n",
    "# # Data\n",
    "all_images = tf.convert_to_tensor(new_all_images)\n",
    "train_images = tf.convert_to_tensor(X_train)\n",
    "\n",
    "\n",
    "# # x-coordinate position labels\n",
    "# x_dataset = tf.convert_to_tensor(x_dataset)\n",
    "train_x_labels = tf.convert_to_tensor(train_x_labels)\n",
    "\n",
    "train_position_labels = np.array(train_position_labels)\n",
    "train_position_labels = tf.convert_to_tensor(train_position_labels)"
   ]
  },
  {
   "cell_type": "code",
   "execution_count": 8,
   "id": "a8a29aa5",
   "metadata": {},
   "outputs": [
    {
     "name": "stdout",
     "output_type": "stream",
     "text": [
      "Model summary:\n",
      "INFO:tensorflow:Assets written to: /Users/zhimin/Courtney/winter_research/assets\n",
      "Model: \"model\"\n",
      "_________________________________________________________________\n",
      "Layer (type)                 Output Shape              Param #   \n",
      "=================================================================\n",
      "input_1 (InputLayer)         [(None, 101, 101, 1)]     0         \n",
      "_________________________________________________________________\n",
      "conv2d (Conv2D)              (None, 101, 101, 1)       10        \n",
      "_________________________________________________________________\n",
      "activation (Activation)      (None, 101, 101, 1)       0         \n",
      "_________________________________________________________________\n",
      "max_pooling2d (MaxPooling2D) (None, 51, 51, 1)         0         \n",
      "_________________________________________________________________\n",
      "flatten (Flatten)            (None, 2601)              0         \n",
      "_________________________________________________________________\n",
      "dense (Dense)                (None, 32)                83264     \n",
      "_________________________________________________________________\n",
      "activation_1 (Activation)    (None, 32)                0         \n",
      "_________________________________________________________________\n",
      "dense_1 (Dense)              (None, 32)                1056      \n",
      "_________________________________________________________________\n",
      "activation_2 (Activation)    (None, 32)                0         \n",
      "_________________________________________________________________\n",
      "dense_2 (Dense)              (None, 1)                 33        \n",
      "=================================================================\n",
      "Total params: 84,363\n",
      "Trainable params: 84,363\n",
      "Non-trainable params: 0\n",
      "_________________________________________________________________\n"
     ]
    }
   ],
   "source": [
    "x_model = dt.models.convolutional(\n",
    "    input_shape=(MAX_WIDTH, MAX_WIDTH, 1), \n",
    "    conv_layers_dimensions=(1,),\n",
    "#     dense_top=False,\n",
    "    activation_function=\"relu\", # flatten it too (? maybe use standard keras here)\n",
    "    number_of_outputs=1,\n",
    "    loss='mean_absolute_error',\n",
    "    optimiser='adam',\n",
    "    metrics=['mean_squared_error'],\n",
    "    output_activation=\"linear\",\n",
    "\n",
    ")\n",
    "\n",
    "\n",
    "print(\"Model summary:\")\n",
    "# x_model.summary()\n",
    "\n",
    "x_model.save('/Users/zhimin/Courtney/winter_research/')\n",
    "\n",
    "new_model = tf.keras.models.load_model('/Users/zhimin/Courtney/winter_research/')\n",
    "\n",
    "new_model.summary()\n",
    "\n",
    "# y_model = dt.models.convolutional(\n",
    "#     input_shape=(MAX_WIDTH, MAX_WIDTH, 1), \n",
    "# #     conv_layers_dimensions=(1,),\n",
    "# #     dense_top=False,\n",
    "#     activation_function=\"relu\", # flatten it too (? maybe use standard keras here)\n",
    "#     number_of_outputs=1,\n",
    "#     loss='mean_absolute_error',\n",
    "#     optimiser='adam',\n",
    "#     metrics=['mean_squared_error'],\n",
    "#     output_activation=\"linear\",\n",
    "# )\n",
    "\n",
    "# print(\"Model summary:\")\n",
    "# y_model.summary()"
   ]
  },
  {
   "cell_type": "code",
   "execution_count": null,
   "id": "56551e0c",
   "metadata": {},
   "outputs": [],
   "source": []
  },
  {
   "cell_type": "code",
   "execution_count": 9,
   "id": "3cbef5e3",
   "metadata": {},
   "outputs": [
    {
     "name": "stdout",
     "output_type": "stream",
     "text": [
      "Fitting the model\n",
      "Model finished fitting\n"
     ]
    }
   ],
   "source": [
    "print(\"Fitting the model\")\n",
    "x_history = new_model.fit(\n",
    "    x=train_images,\n",
    "    y=train_angle_labels,\n",
    "#     epochs=NUM_EPOCHS,\n",
    "    epochs=750,\n",
    "    validation_split=0.4,\n",
    "    verbose=0,\n",
    ")\n",
    "\n",
    "print(\"Model finished fitting\")"
   ]
  },
  {
   "cell_type": "code",
   "execution_count": 10,
   "id": "27a797da",
   "metadata": {},
   "outputs": [],
   "source": [
    "y_history = {}\n",
    "# print(\"Fitting the model\")\n",
    "# y_history = y_model.fit(\n",
    "#     x=train_images,\n",
    "#     y=train_y_labels,\n",
    "#     epochs=NUM_EPOCHS,\n",
    "#     validation_split=0.4,\n",
    "#     verbose=0,\n",
    "# )\n",
    "\n",
    "# print(\"Model finished fitting\")"
   ]
  },
  {
   "cell_type": "code",
   "execution_count": 11,
   "id": "8202e7aa",
   "metadata": {
    "scrolled": false
   },
   "outputs": [
    {
     "name": "stdout",
     "output_type": "stream",
     "text": [
      "Training Accuracy:  23.75 %\n",
      "Test Accuracy 21.0 %\n"
     ]
    },
    {
     "data": {
      "text/plain": [
       "21.0"
      ]
     },
     "execution_count": 11,
     "metadata": {},
     "output_type": "execute_result"
    }
   ],
   "source": [
    "COORD_EPSILON = 0.35 # about 20 degrees\n",
    "\n",
    "def accuracy_prediction(model, train_images, test_images, train_labels, test_labels, train_acc=True):\n",
    "    if train_acc:\n",
    "        predicted = np.array(model.predict_on_batch(train_images))\n",
    "        train_labels = tf.convert_to_tensor(train_labels)\n",
    "\n",
    "        count = 0\n",
    "        for i in range(0, len(train_labels)):\n",
    "            difference = round(round(predicted[i][0], 1) - float(train_labels[i]), 2)\n",
    "            if abs(difference) <= COORD_EPSILON:\n",
    "                count += 1\n",
    "\n",
    "        print(\"Training Accuracy: \", count / len(train_labels) * 100, \"%\")\n",
    "\n",
    "    # 357 correct within 0.5\n",
    "    # 613 correct within 1.0\n",
    "\n",
    "    # ========\n",
    "    test_images = tf.convert_to_tensor(X_test)\n",
    "    test_labels = tf.convert_to_tensor(test_labels)\n",
    "\n",
    "    predicted = np.array(model.predict_on_batch(test_images))\n",
    "    \n",
    "    count = 0\n",
    "    for i in range(0, len(test_labels)):\n",
    "        difference = round(round(predicted[i][0], 1) - float(test_labels[i]), 2)\n",
    "        if abs(difference) <= COORD_EPSILON:\n",
    "            count += 1\n",
    "    test_accuracy_percent = count / len(test_labels) * 100\n",
    "    print(\"Test Accuracy\", test_accuracy_percent, \"%\")\n",
    "    return test_accuracy_percent\n",
    "\n",
    "# print(\"X-Coordinate\")\n",
    "# accuracy_prediction(x_model, X_train, X_test, train_x_labels, test_x_labels)\n",
    "# print(\"Y-Coordinate\")\n",
    "# accuracy_prediction(x_model, X_train, X_test, train_y_labels, test_y_labels)\n",
    "\n",
    "\n",
    "accuracy_prediction(x_model, X_train, X_test, train_angle_labels, test_angle_labels)\n",
    "\n",
    "\n",
    "# predicted = np.array(x_model.predict_on_batch(X_train))\n",
    "# print(predicted)\n",
    "# x_count, y_count = 0, 0\n",
    "\n",
    "# for i in range(0, len(train_position_labels) - 1):\n",
    "# #     print(i)\n",
    "#     x_difference = round(round(predicted[i][0], 1) - float(train_position_labels[i][0]), 2)\n",
    "#     y_difference = round(round(predicted[i][1], 1) - float(train_position_labels[i][1]), 2)\n",
    "#     if abs(x_difference) <= COORD_EPSILON:\n",
    "#         x_count += 1\n",
    "#     if abs(y_difference) <= COORD_EPSILON:\n",
    "#         y_count += 1\n",
    "# print(\"X_correct\", x_count, \"Y_correct\", y_count)\n",
    "# test_accuracy_percent = x_count / len(train_position_labels) * 100\n",
    "# print(\"x-Test Accuracy\", test_accuracy_percent, \"%\")\n",
    "# test_accuracy_percent = y_count / len(train_position_labels) * 100\n",
    "# print(\"y-Test Accuracy\", test_accuracy_percent, \"%\")"
   ]
  },
  {
   "cell_type": "code",
   "execution_count": 12,
   "id": "4b8c9d54",
   "metadata": {},
   "outputs": [
    {
     "data": {
      "image/png": "[encoded data removed]",
      "text/plain": [
       "<Figure size 432x288 with 1 Axes>"
      ]
     },
     "metadata": {
      "needs_background": "light"
     },
     "output_type": "display_data"
    },
    {
     "name": "stdout",
     "output_type": "stream",
     "text": [
      "[1.8542036]\n",
      "-0.14075000000000004\n"
     ]
    }
   ],
   "source": [
    "index = 6\n",
    "\n",
    "plt.imshow(np.squeeze(X_train[index]), cmap='gray')\n",
    "plt.scatter(train_y_labels[index], train_x_labels[index], c=\"y\", marker=\"x\") # 1-indexed, compensate with -1\n",
    "x_predicted = np.array(x_model.predict_on_batch(train_images))\n",
    "y_predicted = np.array(x_model.predict_on_batch(train_images))\n",
    "# plt.scatter(x_predicted[index][0], y_predicted[index][1], c=\"r\", marker=\"x\") # 1-indexed, compensate with -1\n",
    "plt.show()\n",
    "predicted = np.array(x_model.predict_on_batch(X_train))\n",
    "\n",
    "print(predicted[index])\n",
    "print(train_angle_labels[index])"
   ]
  },
  {
   "cell_type": "code",
   "execution_count": 13,
   "id": "01c1564c",
   "metadata": {},
   "outputs": [
    {
     "name": "stdout",
     "output_type": "stream",
     "text": [
      "Final loss: 0.044\n",
      "Final mean_squared_error: 0.007\n",
      "Final val_loss: 0.396\n",
      "Final val_mean_squared_error: 0.253\n"
     ]
    },
    {
     "data": {
      "image/png": "[encoded data removed]",
      "text/plain": [
       "<Figure size 1440x720 with 1 Axes>"
      ]
     },
     "metadata": {
      "needs_background": "light"
     },
     "output_type": "display_data"
    },
    {
     "ename": "AttributeError",
     "evalue": "'dict' object has no attribute 'history'",
     "output_type": "error",
     "traceback": [
      "\u001b[0;31m---------------------------------------------------------------------------\u001b[0m",
      "\u001b[0;31mAttributeError\u001b[0m                            Traceback (most recent call last)",
      "\u001b[0;32m<ipython-input-13-e126e060765d>\u001b[0m in \u001b[0;36m<module>\u001b[0;34m\u001b[0m\n\u001b[1;32m     18\u001b[0m \u001b[0mval\u001b[0m \u001b[0;34m=\u001b[0m \u001b[0mplot_history\u001b[0m\u001b[0;34m(\u001b[0m\u001b[0mx_history\u001b[0m\u001b[0;34m)\u001b[0m\u001b[0;34m\u001b[0m\u001b[0;34m\u001b[0m\u001b[0m\n\u001b[1;32m     19\u001b[0m \u001b[0;34m\u001b[0m\u001b[0m\n\u001b[0;32m---> 20\u001b[0;31m \u001b[0mval\u001b[0m \u001b[0;34m=\u001b[0m \u001b[0mplot_history\u001b[0m\u001b[0;34m(\u001b[0m\u001b[0my_history\u001b[0m\u001b[0;34m)\u001b[0m\u001b[0;34m\u001b[0m\u001b[0;34m\u001b[0m\u001b[0m\n\u001b[0m",
      "\u001b[0;32m<ipython-input-13-e126e060765d>\u001b[0m in \u001b[0;36mplot_history\u001b[0;34m(history, ylim)\u001b[0m\n\u001b[1;32m      7\u001b[0m     \u001b[0mfig\u001b[0m\u001b[0;34m,\u001b[0m \u001b[0max\u001b[0m \u001b[0;34m=\u001b[0m \u001b[0mplt\u001b[0m\u001b[0;34m.\u001b[0m\u001b[0msubplots\u001b[0m\u001b[0;34m(\u001b[0m\u001b[0mfigsize\u001b[0m\u001b[0;34m=\u001b[0m\u001b[0;34m(\u001b[0m\u001b[0;36m20\u001b[0m\u001b[0;34m,\u001b[0m \u001b[0;36m10\u001b[0m\u001b[0;34m)\u001b[0m\u001b[0;34m)\u001b[0m\u001b[0;34m\u001b[0m\u001b[0;34m\u001b[0m\u001b[0m\n\u001b[1;32m      8\u001b[0m     \u001b[0max\u001b[0m\u001b[0;34m.\u001b[0m\u001b[0mset_title\u001b[0m\u001b[0;34m(\u001b[0m\u001b[0;34m'Loss and Accuracy of Train vs Validation data'\u001b[0m\u001b[0;34m)\u001b[0m\u001b[0;34m\u001b[0m\u001b[0;34m\u001b[0m\u001b[0m\n\u001b[0;32m----> 9\u001b[0;31m     \u001b[0;32mfor\u001b[0m \u001b[0mkey\u001b[0m\u001b[0;34m,\u001b[0m \u001b[0mvalue\u001b[0m \u001b[0;32min\u001b[0m \u001b[0mhistory\u001b[0m\u001b[0;34m.\u001b[0m\u001b[0mhistory\u001b[0m\u001b[0;34m.\u001b[0m\u001b[0mitems\u001b[0m\u001b[0;34m(\u001b[0m\u001b[0;34m)\u001b[0m\u001b[0;34m:\u001b[0m\u001b[0;34m\u001b[0m\u001b[0;34m\u001b[0m\u001b[0m\n\u001b[0m\u001b[1;32m     10\u001b[0m         \u001b[0max\u001b[0m\u001b[0;34m.\u001b[0m\u001b[0mplot\u001b[0m\u001b[0;34m(\u001b[0m\u001b[0mvalue\u001b[0m\u001b[0;34m,\u001b[0m \u001b[0mlabel\u001b[0m\u001b[0;34m=\u001b[0m\u001b[0mkey\u001b[0m\u001b[0;34m)\u001b[0m\u001b[0;34m\u001b[0m\u001b[0;34m\u001b[0m\u001b[0m\n\u001b[1;32m     11\u001b[0m         \u001b[0mprint\u001b[0m\u001b[0;34m(\u001b[0m\u001b[0;34mf'Final {key}: {round(value[-1], 3)}'\u001b[0m\u001b[0;34m)\u001b[0m\u001b[0;34m\u001b[0m\u001b[0;34m\u001b[0m\u001b[0m\n",
      "\u001b[0;31mAttributeError\u001b[0m: 'dict' object has no attribute 'history'"
     ]
    },
    {
     "data": {
      "image/png": "[encoded data removed]",
      "text/plain": [
       "<Figure size 1440x720 with 1 Axes>"
      ]
     },
     "metadata": {
      "needs_background": "light"
     },
     "output_type": "display_data"
    }
   ],
   "source": [
    "def plot_history(history, ylim=70): # Thank you catkins\n",
    "    \"\"\"\n",
    "    Plot train and validation accuracy and loss in one chart.\n",
    "    :param history: The dictionary containing the accuracy and loss history.\n",
    "    \"\"\"\n",
    "    keep = \"\"\n",
    "    fig, ax = plt.subplots(figsize=(20, 10))\n",
    "    ax.set_title('Loss and Accuracy of Train vs Validation data')\n",
    "    for key, value in history.history.items():\n",
    "        ax.plot(value, label=key)\n",
    "        print(f'Final {key}: {round(value[-1], 3)}')\n",
    "        if key == \"accuracy\":\n",
    "            keep = value\n",
    "    plt.ylim([0,ylim])\n",
    "    ax.legend()\n",
    "    plt.show()\n",
    "    return keep\n",
    "val = plot_history(x_history)\n",
    "\n",
    "val = plot_history(y_history)"
   ]
  },
  {
   "cell_type": "code",
   "execution_count": null,
   "id": "cd0d6772",
   "metadata": {},
   "outputs": [],
   "source": []
  }
 ],
 "metadata": {
  "kernelspec": {
   "display_name": "Python 3",
   "language": "python",
   "name": "python3"
  },
  "language_info": {
   "codemirror_mode": {
    "name": "ipython",
    "version": 3
   },
   "file_extension": ".py",
   "mimetype": "text/x-python",
   "name": "python",
   "nbconvert_exporter": "python",
   "pygments_lexer": "ipython3",
   "version": "3.9.4"
  }
 },
 "nbformat": 4,
 "nbformat_minor": 5
}
