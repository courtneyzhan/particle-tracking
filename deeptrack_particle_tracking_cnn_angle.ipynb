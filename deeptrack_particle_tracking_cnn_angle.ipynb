{
 "cells": [
  {
   "cell_type": "markdown",
   "id": "e9bb3373",
   "metadata": {},
   "source": [
    "# Identifying Particles\n",
    "\n",
    "Import necessary python libraries\n",
    "\n",
    "I used absolute paths throughout this notebook, so I have commented \"pwd\" at every path so it can be replaced."
   ]
  },
  {
   "cell_type": "code",
   "execution_count": 1,
   "id": "fb0522b1",
   "metadata": {},
   "outputs": [],
   "source": [
    "%matplotlib inline\n",
    "import sys\n",
    "sys.path.append(\"..\") # Adds the module to path"
   ]
  },
  {
   "cell_type": "code",
   "execution_count": 2,
   "id": "88d3e722",
   "metadata": {},
   "outputs": [
    {
     "name": "stdout",
     "output_type": "stream",
     "text": [
      "Import Complete\n"
     ]
    }
   ],
   "source": [
    "# Imports\n",
    "import deeptrack as dt\n",
    "import glob \n",
    "import keras\n",
    "import matplotlib.animation as animation\n",
    "import matplotlib.pyplot as plt\n",
    "import math\n",
    "from matplotlib import image\n",
    "import numpy as np\n",
    "import os\n",
    "import pandas as pd\n",
    "import random\n",
    "from sklearn.model_selection import train_test_split\n",
    "import subprocess\n",
    "import tensorflow as tf\n",
    "import time\n",
    "\n",
    "# Set seeds\n",
    "random.seed(14)\n",
    "np.random.seed(0)\n",
    "\n",
    "print(\"Import Complete\")"
   ]
  },
  {
   "cell_type": "markdown",
   "id": "f82bf80f",
   "metadata": {},
   "source": [
    "# Defining Constants  \n",
    "\n",
    "### General Constants  \n",
    "`VERBOSE`: Chooses how much to display. When `True` will show additional information, like model's training history plots. If `False`, hides unnecessary information.  \n",
    "\n",
    "### Input Relevant Constants  \n",
    "`NUM_OF_IMAGES`: Total number of images to load in  \n",
    "`MAX_WIDTH`: Dimension of the final image to be used *after* displacing the particle  \n",
    "`FRACTIONAL_UNIT`: Same value as the changed parameter in MATLAB (not the exact fractional unit). In MATLAB, the fractional unit is $2^X$, where $X$ is the value changed.  \n",
    "`SIZE_OF_PARTICLE`: Approximate size of particle from the center of the image.  \n",
    "\n",
    "### Model Training Relevant Constants  \n",
    "`TEST_SIZE`: The fraction of data to be used for testing (value between 0.0 to 1.0)  \n",
    "`SHUFFLE_ON`: Whether to shuffle the training/testing set  \n",
    "`NUM_EPOCHS`: The number of training epochs  \n",
    "`ANGLE_EPOCHS`: The number of training epochs for the angle model  \n",
    "\n",
    "### Model Testing Relevant Constants  \n",
    "`COORD_EPSILON`: The acceptable difference between predicted and actual values to be considered 'accurate'  \n",
    "`LINE_LENGTH`: Length of angle line when plotting the angle in images"
   ]
  },
  {
   "cell_type": "code",
   "execution_count": 3,
   "id": "c7cc3d00",
   "metadata": {},
   "outputs": [],
   "source": [
    "# General\n",
    "VERBOSE = False # show additional information like timing and misc. print statements\n",
    "\n",
    "# Input\n",
    "NUM_OF_IMAGES    = 1000\n",
    "MAX_WIDTH        = 101\n",
    "FRACTIONAL_UNIT  = 1 # corresponds to the fractional unit in MATLAB (X in 2^X)\n",
    "SIZE_OF_PARTICLE = 22 # 22 by 22 area in the center of the image.\n",
    "\n",
    "# Model Training\n",
    "TEST_SIZE     = 0.2\n",
    "SHUFFLE_ON    = True # shuffle training/testing set\n",
    "NUM_EPOCHS    = 500\n",
    "ANGLE_EPOCHS  = 50\n",
    "\n",
    "# Model Testing\n",
    "COORD_EPSILON = 1.0   # acceptable difference to be considered 'accurate'\n",
    "LINE_LENGTH   = 15"
   ]
  },
  {
   "cell_type": "markdown",
   "id": "75ed8033",
   "metadata": {},
   "source": [
    "### General Function for Plotting History"
   ]
  },
  {
   "cell_type": "code",
   "execution_count": 4,
   "id": "c8f1388f",
   "metadata": {},
   "outputs": [],
   "source": [
    "def plot_history(history, ylim=2): # Thank you catkins\n",
    "    \"\"\"\n",
    "    Plot train and validation accuracy and loss in one chart.\n",
    "    :param history: The dictionary containing the accuracy and loss history.\n",
    "    \"\"\"\n",
    "    keep = \"\"\n",
    "    fig, ax = plt.subplots(figsize=(20, 10))\n",
    "    ax.set_title('Loss and Accuracy of Train vs Validation data')\n",
    "    for key, value in history.history.items():\n",
    "        ax.plot(value, label=key)\n",
    "        print(f'Final {key}: {round(value[-1], 3)}')\n",
    "        if key == \"accuracy\":\n",
    "            keep = value\n",
    "    plt.ylim([0,ylim])\n",
    "    ax.legend()\n",
    "    plt.show()\n",
    "    return keep"
   ]
  },
  {
   "cell_type": "markdown",
   "id": "fc3a97c0",
   "metadata": {},
   "source": [
    "# Data Loading"
   ]
  },
  {
   "cell_type": "markdown",
   "id": "42ef4832",
   "metadata": {},
   "source": [
    "## Plot one Sample Image and it's Label"
   ]
  },
  {
   "cell_type": "code",
   "execution_count": 5,
   "id": "f97fa72d",
   "metadata": {},
   "outputs": [],
   "source": [
    "if VERBOSE:\n",
    "    # Load in single image\n",
    "    # pwd single image\n",
    "    img_data = image.imread('/Users/zhimin/Courtney/winter_research/data/dataset/image1.jpg')\n",
    "\n",
    "    # Convert to DeepTrack 2.0 Feature\n",
    "    img_data = dt.features.Dataset(img_data)\n",
    "    output_image = img_data.resolve()\n",
    "\n",
    "    # Display image\n",
    "    plt.imshow(output_image)\n",
    "\n",
    "    # Load in Labels\n",
    "    # pwd labels location\n",
    "    dataset = pd.read_csv('/Users/zhimin/Courtney/winter_research/data/csv/data.csv')\n",
    "    dataset = np.array(dataset)\n",
    "\n",
    "    dataset = dataset / 2.0 - 1\n",
    "    print(dataset[:, 0:5])\n",
    "\n",
    "    label = dataset[0]\n",
    "    print(label)\n",
    "\n",
    "    # Plot single image against label position\n",
    "    plt.imshow(np.squeeze(output_image), cmap='gray')\n",
    "    plt.scatter(label[1], label[0], c=\"r\", marker=\"x\") # 1-indexed, compensate with -1\n",
    "    # plt.show()\n",
    "\n",
    "    offsetx, offsety = label[1], label[0]\n",
    "    angle = math.pi - label[2]\n",
    "    x = [offsetx - LINE_LENGTH * math.cos(angle), offsetx + LINE_LENGTH * math.cos(angle)]\n",
    "    y = [offsety - LINE_LENGTH * math.sin(angle), offsety + LINE_LENGTH * math.sin(angle)]\n",
    "    plt.plot(x, y, '-')\n",
    "\n",
    "    plt.show()"
   ]
  },
  {
   "cell_type": "markdown",
   "id": "c6b11e66",
   "metadata": {},
   "source": [
    "## Plot Multiple Sample Images and it's Labels"
   ]
  },
  {
   "cell_type": "code",
   "execution_count": 6,
   "id": "5f7748b2",
   "metadata": {},
   "outputs": [],
   "source": [
    "if VERBOSE:\n",
    "    # ==========================================\n",
    "    # Load in all images\n",
    "    all_images = []\n",
    "    for i in range(0, NUM_OF_IMAGES):\n",
    "        image_name = 'image' + str(i + 1) + '.jpg'\n",
    "        # pwd folder of images\n",
    "        img_data = image.imread('/Users/zhimin/Courtney/winter_research/data/dataset/' + image_name)\n",
    "        all_images.append(img_data)\n",
    "\n",
    "    print(\"Finished loading all images\")\n",
    "\n",
    "    img_data = all_images[0]\n",
    "    img_data = dt.features.Dataset(img_data)\n",
    "    output_image = img_data.resolve()\n",
    "    plt.imshow(np.squeeze(output_image), cmap='gray')\n",
    "\n",
    "    # Load in Labels\n",
    "    # pwd labels location\n",
    "    dataset = pd.read_csv('/Users/zhimin/Courtney/winter_research/data/csv/data.csv')\n",
    "    dataset = np.array(dataset, dtype=\"float64\")\n",
    "    dataset = dataset / 2.0 - 1 # div 2 for fractional units, -1 to offset MATLAB 1-index\n",
    "\n",
    "    # ==========================================\n",
    "    # Sample a few points to show the true label\n",
    "    chosen = [0, 6, 266, 977]\n",
    "    for i in chosen:\n",
    "        # Select image plot\n",
    "        img_data = all_images[i]\n",
    "        img_data = dt.features.Dataset(img_data)\n",
    "        output_image = img_data.resolve()\n",
    "\n",
    "        # Display image grayscale\n",
    "        plt.imshow(np.squeeze(output_image), cmap='gray')\n",
    "\n",
    "        # Load in label for selected data\n",
    "        label = dataset[i]\n",
    "        print(label)\n",
    "\n",
    "        # Show image with true label\n",
    "    #     plt.imshow(np.squeeze(output_image), cmap='gray')\n",
    "    #     plt.scatter(label[1], label[0], c=\"r\", marker=\"x\") # 1-indexed, compensate with -1\n",
    "    #     plt.show()\n",
    "    original_all_images = all_images.copy()"
   ]
  },
  {
   "cell_type": "markdown",
   "id": "9c1193e3",
   "metadata": {},
   "source": [
    "## All Data"
   ]
  },
  {
   "cell_type": "code",
   "execution_count": 7,
   "id": "a2b68c0b",
   "metadata": {},
   "outputs": [],
   "source": [
    "# Load in Labels\n",
    "# pwd labels location\n",
    "dataset = pd.read_csv('/Users/zhimin/Courtney/winter_research/data/csv/data.csv')\n",
    "\n",
    "dataset = np.array(dataset, dtype=\"float64\")\n",
    "dataset = dataset / (2.0**FRACTIONAL_UNIT) - 1"
   ]
  },
  {
   "cell_type": "code",
   "execution_count": 8,
   "id": "815cea76",
   "metadata": {},
   "outputs": [],
   "source": [
    "new_all_images = []\n",
    "\n",
    "# Load in images and displace them. Update labels accordingly.\n",
    "for i in range(1, NUM_OF_IMAGES + 1):\n",
    "    # pwd folder of images\n",
    "    img_data = image.imread('/Users/zhimin/Courtney/winter_research/data/dataset/image' + str(i) + '.jpg')\n",
    "\n",
    "    particle_only = img_data[SIZE_OF_PARTICLE:-1 * SIZE_OF_PARTICLE, SIZE_OF_PARTICLE:-1 * SIZE_OF_PARTICLE]\n",
    "    offset = 2 * SIZE_OF_PARTICLE\n",
    "    \n",
    "    rand_x = random.randint(0, 2 * SIZE_OF_PARTICLE)\n",
    "    rand_y = random.randint(0, 2 * SIZE_OF_PARTICLE)\n",
    "    \n",
    "    displaced = np.pad(particle_only, ((rand_x, offset - rand_x), (rand_y, offset - rand_y)), 'constant')\n",
    "    \n",
    "    # Add new images and labels\n",
    "    new_all_images.append(displaced)\n",
    "    \n",
    "    new_x = dataset[i - 1][0] - SIZE_OF_PARTICLE + rand_x\n",
    "    new_y = dataset[i - 1][1] - SIZE_OF_PARTICLE + rand_y\n",
    "    dataset[i - 1] = [new_x, new_y, dataset[i - 1][2]]\n",
    "    \n",
    "new_all_images = np.array(new_all_images)"
   ]
  },
  {
   "cell_type": "code",
   "execution_count": 9,
   "id": "1d3732a1",
   "metadata": {},
   "outputs": [
    {
     "name": "stdout",
     "output_type": "stream",
     "text": [
      "(1000, 101, 101)\n"
     ]
    },
    {
     "data": {
      "image/png": "[encoded data removed]",
      "text/plain": [
       "<Figure size 432x288 with 1 Axes>"
      ]
     },
     "metadata": {
      "needs_background": "light"
     },
     "output_type": "display_data"
    }
   ],
   "source": [
    "print(new_all_images.shape)\n",
    "plt.imshow(np.squeeze(new_all_images[0]), cmap='gray')\n",
    "label = dataset[0]\n",
    "plt.scatter(label[1], label[0], c=\"y\", marker=\"x\") # 1-indexed, compensate with -1\n",
    "plt.show()"
   ]
  },
  {
   "cell_type": "markdown",
   "id": "2304426b",
   "metadata": {},
   "source": [
    "## Training NN\n",
    "It seems like the labels can only be a single value, so the way it is currently working on it, is to have a separate CNN for x- and y- labels. When combined, they will give the center position attribute for the cell."
   ]
  },
  {
   "cell_type": "code",
   "execution_count": 10,
   "id": "2f3788db",
   "metadata": {},
   "outputs": [],
   "source": [
    "\n",
    "X_train, X_test, Y_train, Y_test = train_test_split(new_all_images, dataset, test_size=TEST_SIZE, shuffle=SHUFFLE_ON)\n",
    "\n",
    "# Labels into individual sets.\n",
    "train_x_labels     = np.zeros(800)\n",
    "train_y_labels     = np.zeros(800)\n",
    "train_angle_labels = np.zeros(800)\n",
    "\n",
    "test_x_labels     = np.zeros(200)\n",
    "test_y_labels     = np.zeros(200)\n",
    "test_angle_labels = np.zeros(200)\n",
    "\n",
    "\n",
    "# Split by x, y coordinates\n",
    "count = 0\n",
    "for elem in Y_train:\n",
    "    train_x_labels[count] = elem[0]\n",
    "    train_y_labels[count] = elem[1]\n",
    "    train_angle_labels[count] = elem[2]\n",
    "    count += 1\n",
    "\n",
    "count = 0\n",
    "for elem in Y_test:\n",
    "    test_x_labels[count] = elem[0]\n",
    "    test_y_labels[count] = elem[1]\n",
    "    test_angle_labels[count] = elem[2]\n",
    "    count += 1\n",
    "\n",
    "# # Converts to Tensor for model\n",
    "all_images = tf.convert_to_tensor(new_all_images)\n",
    "train_images = tf.convert_to_tensor(X_train)"
   ]
  },
  {
   "cell_type": "code",
   "execution_count": 11,
   "id": "7714af09",
   "metadata": {},
   "outputs": [],
   "source": [
    "def accuracy_prediction(model, train_images, test_images, train_labels, test_labels, train_acc=True, epsilon=COORD_EPSILON):\n",
    "    if train_acc:\n",
    "        predicted = np.array(model.predict_on_batch(train_images))\n",
    "        train_labels = tf.convert_to_tensor(train_labels)\n",
    "\n",
    "        count = 0\n",
    "        for i in range(0, len(train_labels)):\n",
    "            difference = round(round(predicted[i][0], 1) - float(train_labels[i]), 2)\n",
    "            if abs(difference) <= epsilon:\n",
    "                count += 1\n",
    "\n",
    "        print(\"Training Accuracy: \", count / len(train_labels) * 100, \"%\")\n",
    "\n",
    "    # 357 correct within 0.5\n",
    "    # 613 correct within 1.0\n",
    "\n",
    "    # ========\n",
    "    test_images = tf.convert_to_tensor(X_test)\n",
    "    test_labels = tf.convert_to_tensor(test_labels)\n",
    "\n",
    "    predicted = np.array(model.predict_on_batch(test_images))\n",
    "    \n",
    "    count = 0\n",
    "    for i in range(0, len(test_labels)):\n",
    "        difference = round(round(predicted[i][0], 1) - float(test_labels[i]), 2)\n",
    "        if abs(difference) <= epsilon:\n",
    "            count += 1\n",
    "    test_accuracy_percent = count / len(test_labels) * 100\n",
    "    print(\"Test Accuracy\", test_accuracy_percent, \"%\")\n",
    "    return test_accuracy_percent"
   ]
  },
  {
   "cell_type": "markdown",
   "id": "d7022f6e",
   "metadata": {},
   "source": [
    "## Model Set-Up"
   ]
  },
  {
   "cell_type": "code",
   "execution_count": 12,
   "id": "a8a29aa5",
   "metadata": {},
   "outputs": [],
   "source": [
    "x_model = dt.models.convolutional(\n",
    "    input_shape=(MAX_WIDTH, MAX_WIDTH, 1), \n",
    "    conv_layers_dimensions=(1,),\n",
    "    activation_function=\"relu\", # flatten it too (? maybe use standard keras here)\n",
    "    number_of_outputs=1,\n",
    "    loss='mean_absolute_error',\n",
    "    optimiser='adam',\n",
    "    metrics=['mean_squared_error'],\n",
    "    output_activation=\"linear\",\n",
    ")\n",
    "\n",
    "if VERBOSE:\n",
    "    print(\"Model summary:\")\n",
    "    x_model.summary()\n",
    "\n",
    "y_model = dt.models.convolutional(\n",
    "    input_shape=(MAX_WIDTH, MAX_WIDTH, 1), \n",
    "      conv_layers_dimensions=(1,),\n",
    "    activation_function=\"relu\", # flatten it too (? maybe use standard keras here)\n",
    "    number_of_outputs=1,\n",
    "    loss='mean_absolute_error',\n",
    "    optimiser='adam',\n",
    "    metrics=['mean_squared_error'],\n",
    "    output_activation=\"linear\",\n",
    ")\n",
    "\n",
    "if VERBOSE:\n",
    "    print(\"Model summary:\")\n",
    "    y_model.summary()\n",
    "\n",
    "angle_model = dt.models.convolutional(\n",
    "    input_shape=(MAX_WIDTH, MAX_WIDTH, 1), \n",
    "    conv_layers_dimensions=(1,),\n",
    "    activation_function=\"relu\",\n",
    "    number_of_outputs=1,\n",
    "    loss='mean_absolute_error',\n",
    "    optimiser='adam',\n",
    "    metrics=['mean_squared_error'],\n",
    "    output_activation=\"linear\",\n",
    ")\n",
    "\n",
    "if VERBOSE:\n",
    "    print(\"Model summary:\")\n",
    "    angle_model.summary()"
   ]
  },
  {
   "cell_type": "markdown",
   "id": "35437411",
   "metadata": {},
   "source": [
    "## Model Training"
   ]
  },
  {
   "cell_type": "code",
   "execution_count": 13,
   "id": "3cbef5e3",
   "metadata": {},
   "outputs": [],
   "source": [
    "def train_x(x_model):\n",
    "    print(\"Fitting the model\")\n",
    "    start = time.time()\n",
    "    x_history = x_model.fit(\n",
    "        x=train_images,\n",
    "        y=train_x_labels,\n",
    "        epochs=NUM_EPOCHS,\n",
    "        validation_split=0.4,\n",
    "        verbose=0,\n",
    "    )\n",
    "    print(\"Model finished fitting. Took \", time.time() - start, \"seconds\")\n",
    "    return x_history"
   ]
  },
  {
   "cell_type": "code",
   "execution_count": 14,
   "id": "27a797da",
   "metadata": {},
   "outputs": [],
   "source": [
    "def train_y(y_model):\n",
    "    print(\"Fitting the model\")\n",
    "    start = time.time()\n",
    "    y_history = y_model.fit(\n",
    "        x=train_images,\n",
    "        y=train_y_labels,\n",
    "        epochs=NUM_EPOCHS,\n",
    "        validation_split=0.4,\n",
    "        verbose=0,\n",
    "    )\n",
    "\n",
    "    print(\"Model finished fitting. Took \", time.time() - start, \"seconds\")\n",
    "    return y_history"
   ]
  },
  {
   "cell_type": "code",
   "execution_count": 15,
   "id": "50b6c579",
   "metadata": {},
   "outputs": [],
   "source": [
    "def train_angle(angle_model):\n",
    "    print(\"Fitting the model\")\n",
    "    start = time.time()\n",
    "    angle_history = angle_model.fit(\n",
    "        x=train_images,\n",
    "        y=train_angle_labels,\n",
    "        epochs=ANGLE_EPOCHS,\n",
    "        validation_split=0.4,\n",
    "        verbose=0,\n",
    "    )\n",
    "\n",
    "    print(\"Model finished fitting. Took \", time.time() - start, \"seconds\")\n",
    "    return angle_history"
   ]
  },
  {
   "cell_type": "code",
   "execution_count": 16,
   "id": "8202e7aa",
   "metadata": {
    "scrolled": false
   },
   "outputs": [
    {
     "name": "stdout",
     "output_type": "stream",
     "text": [
      "Fitting the model\n",
      "Model finished fitting. Took  187.80508184432983 seconds\n",
      "X-Coordinate\n",
      "Training Accuracy:  8.875 %\n",
      "Test Accuracy 8.5 %\n"
     ]
    }
   ],
   "source": [
    "x_history = train_x(x_model)\n",
    "print(\"X-Coordinate\")\n",
    "test_acc = accuracy_prediction(x_model, X_train, X_test, train_x_labels, test_x_labels)"
   ]
  },
  {
   "cell_type": "code",
   "execution_count": 17,
   "id": "ffd91673",
   "metadata": {},
   "outputs": [
    {
     "name": "stdout",
     "output_type": "stream",
     "text": [
      "Fitting the model\n",
      "Model finished fitting. Took  174.4831612110138 seconds\n",
      "Y-Coordinate\n",
      "Training Accuracy:  62.375 %\n",
      "Test Accuracy 50.0 %\n"
     ]
    }
   ],
   "source": [
    "y_history = train_y(y_model)\n",
    "print(\"Y-Coordinate\")\n",
    "test_acc = accuracy_prediction(y_model, X_train, X_test, train_y_labels, test_y_labels)"
   ]
  },
  {
   "cell_type": "code",
   "execution_count": 18,
   "id": "71795a2f",
   "metadata": {},
   "outputs": [
    {
     "name": "stdout",
     "output_type": "stream",
     "text": [
      "Fitting the model\n",
      "Model finished fitting. Took  17.787606954574585 seconds\n",
      "Angle\n",
      "WARNING:tensorflow:5 out of the last 5 calls to <function Model.make_predict_function.<locals>.predict_function at 0x15723bd30> triggered tf.function retracing. Tracing is expensive and the excessive number of tracings could be due to (1) creating @tf.function repeatedly in a loop, (2) passing tensors with different shapes, (3) passing Python objects instead of tensors. For (1), please define your @tf.function outside of the loop. For (2), @tf.function has experimental_relax_shapes=True option that relaxes argument shapes that can avoid unnecessary retracing. For (3), please refer to https://www.tensorflow.org/guide/function#controlling_retracing and https://www.tensorflow.org/api_docs/python/tf/function for  more details.\n",
      "Training Accuracy:  74.375 %\n",
      "WARNING:tensorflow:6 out of the last 6 calls to <function Model.make_predict_function.<locals>.predict_function at 0x15723bd30> triggered tf.function retracing. Tracing is expensive and the excessive number of tracings could be due to (1) creating @tf.function repeatedly in a loop, (2) passing tensors with different shapes, (3) passing Python objects instead of tensors. For (1), please define your @tf.function outside of the loop. For (2), @tf.function has experimental_relax_shapes=True option that relaxes argument shapes that can avoid unnecessary retracing. For (3), please refer to https://www.tensorflow.org/guide/function#controlling_retracing and https://www.tensorflow.org/api_docs/python/tf/function for  more details.\n",
      "Test Accuracy 45.0 %\n"
     ]
    }
   ],
   "source": [
    "angle_history = train_angle(angle_model)\n",
    "print(\"Angle\")\n",
    "\n",
    "test_acc = accuracy_prediction(angle_model, X_train, X_test, train_angle_labels, test_angle_labels, epsilon=0.2)"
   ]
  },
  {
   "cell_type": "markdown",
   "id": "7ec07f7e",
   "metadata": {},
   "source": [
    "## Sample Run \n",
    "Using a chosen index `index`. "
   ]
  },
  {
   "cell_type": "code",
   "execution_count": 19,
   "id": "4b8c9d54",
   "metadata": {},
   "outputs": [
    {
     "data": {
      "image/png": "[encoded data removed]",
      "text/plain": [
       "<Figure size 432x288 with 1 Axes>"
      ]
     },
     "metadata": {
      "needs_background": "light"
     },
     "output_type": "display_data"
    },
    {
     "name": "stdout",
     "output_type": "stream",
     "text": [
      "Actual -0.19379999999999997\n",
      "Predicted [-0.19438368]\n"
     ]
    }
   ],
   "source": [
    "index = 123\n",
    "\n",
    "plt.imshow(np.squeeze(X_train[index]), cmap='gray')\n",
    "plt.scatter(train_y_labels[index], train_x_labels[index], c=\"y\", marker=\"x\") # 1-indexed, compensate with -1\n",
    "x_predicted = np.array(x_model.predict_on_batch(train_images))\n",
    "y_predicted = np.array(y_model.predict_on_batch(train_images))\n",
    "plt.scatter(x_predicted[index], y_predicted[index], c=\"r\", marker=\"x\") # 1-indexed, compensate with -1\n",
    "plt.show()\n",
    "\n",
    "angle_predicted = np.array(angle_model.predict_on_batch(X_train))\n",
    "\n",
    "\n",
    "print(\"Actual\", train_angle_labels[index])\n",
    "print(\"Predicted\", angle_predicted[index])"
   ]
  },
  {
   "cell_type": "markdown",
   "id": "4bced051",
   "metadata": {},
   "source": [
    "## Plot History\n",
    "Visualisation for chosen metrics over epoches for each model. Only active if `VERBOSE` is `True`."
   ]
  },
  {
   "cell_type": "code",
   "execution_count": 20,
   "id": "0eb60459",
   "metadata": {},
   "outputs": [],
   "source": [
    "if VERBOSE:\n",
    "    val = plot_history(x_history)\n",
    "\n",
    "    val = plot_history(y_history)\n",
    "\n",
    "    val = plot_history(angle_history)"
   ]
  },
  {
   "cell_type": "markdown",
   "id": "07988371",
   "metadata": {},
   "source": [
    "# Testing the Models\n",
    "Uses a sample test walk (contained within `data/walk`), and predicts on this test walk set. Exports the plots images as separate figures, then combines into an `mp4`.\n",
    "\n",
    "**!! Highly recommend NOT uncommenting the final block and/or making a separate folder (e.g. called `images`) to use for storing plots and animation**. When mp4 has finished creation, if the final block is uncommented, all .png files will be deleted."
   ]
  },
  {
   "cell_type": "code",
   "execution_count": 21,
   "id": "b1896998",
   "metadata": {},
   "outputs": [],
   "source": [
    "# Load in Test Walk\n",
    "walk_images = []\n",
    "for i in range(0, NUM_OF_IMAGES):\n",
    "    image_name = 'walk_image' + str(i + 1) + '.jpg'\n",
    "    # pwd walk folder location\n",
    "    img_data = image.imread('/Users/zhimin/Courtney/winter_research/data/walk/' + image_name)\n",
    "    walk_images.append(img_data)\n",
    "walk_images = np.array(walk_images)\n",
    "\n",
    "# Load in Labels\n",
    "# pwd walk labels\n",
    "walk_dataset = pd.read_csv('/Users/zhimin/Courtney/winter_research/data/csv/walk_data.csv')\n",
    "\n",
    "walk_dataset = np.array(walk_dataset, dtype=\"float64\")\n",
    "walk_dataset = walk_dataset / (2.0**FRACTIONAL_UNIT) - 1\n",
    "\n",
    "x_predicted = np.array(x_model.predict_on_batch(walk_images))\n",
    "y_predicted = np.array(y_model.predict_on_batch(walk_images))\n",
    "angle_predicted = np.array(angle_model.predict_on_batch(walk_images))\n",
    "\n",
    "x_labels = walk_dataset[:, 0]\n",
    "y_labels = walk_dataset[:, 1]\n",
    "angle_labels = walk_dataset[:, 2]"
   ]
  },
  {
   "cell_type": "code",
   "execution_count": 22,
   "id": "c9492edc",
   "metadata": {},
   "outputs": [],
   "source": [
    "Writer = animation.writers['ffmpeg']\n",
    "writer = Writer(fps=15, metadata=dict(artist='Me'), bitrate=1800)"
   ]
  },
  {
   "cell_type": "code",
   "execution_count": 23,
   "id": "49cfc6af",
   "metadata": {},
   "outputs": [
    {
     "data": {
      "text/plain": [
       "<Figure size 432x288 with 0 Axes>"
      ]
     },
     "metadata": {},
     "output_type": "display_data"
    }
   ],
   "source": [
    "# # Generate new images\n",
    "# # Quite costly (time-wise), if images already exist, I suggest not running this cell.\n",
    "\n",
    "for index in range(0, len(walk_images)):\n",
    "    # Plot real coordinates (yellow) then predicted coordinates (red) with image\n",
    "    plt.scatter(y_labels[index], x_labels[index], c=\"y\", marker=\"x\")\n",
    "    plt.scatter(y_predicted[index], x_predicted[index], c=\"r\", marker=\"x\")\n",
    "    plt.imshow(np.squeeze(walk_images[index]), cmap='gray')\n",
    "    \n",
    "    # Plot angle line for real angle (yellow)\n",
    "    offsetx, offsety = y_labels[index], x_labels[index]\n",
    "    angle = math.pi - angle_labels[index]\n",
    "    x = [offsetx - LINE_LENGTH * math.cos(angle), offsetx + LINE_LENGTH * math.cos(angle)]\n",
    "    y = [offsety - LINE_LENGTH * math.sin(angle), offsety + LINE_LENGTH * math.sin(angle)]\n",
    "    plt.plot(x, y, 'y-')\n",
    "    plt.plot(offsetx - LINE_LENGTH * math.cos(angle), offsety - LINE_LENGTH * math.sin(angle), 'y>') # arrowhead\n",
    "\n",
    "    # Plot angle line for predicted angle (red)\n",
    "    offsetx, offsety = y_predicted[index], x_predicted[index]\n",
    "    angle = math.pi - angle_predicted[index]\n",
    "    x = [offsetx - LINE_LENGTH * math.cos(angle), offsetx + LINE_LENGTH * math.cos(angle)]\n",
    "    y = [offsety - LINE_LENGTH * math.sin(angle), offsety + LINE_LENGTH * math.sin(angle)]\n",
    "    plt.plot(x, y, 'r-')\n",
    "    plt.plot(offsetx - LINE_LENGTH * math.cos(angle), offsety - LINE_LENGTH * math.sin(angle), 'r>') # arrowhead\n",
    "    \n",
    "    # pwd location to save images temporarily.\n",
    "    #  WARNING MAKE THIS A SEPARATE FOLDER! Deleting images will delete ALL pngs in the folder.\n",
    "    plt.savefig(\"/Users/zhimin/Courtney/winter_research/images/file%03d.png\" % index)\n",
    "    plt.clf()"
   ]
  },
  {
   "cell_type": "code",
   "execution_count": 24,
   "id": "3600dc5f",
   "metadata": {},
   "outputs": [
    {
     "data": {
      "text/plain": [
       "1"
      ]
     },
     "execution_count": 24,
     "metadata": {},
     "output_type": "execute_result"
    }
   ],
   "source": [
    "# Export to mp4\n",
    "# pwd folder where images were temporarily saved\n",
    "os.chdir(\"/Users/zhimin/Courtney/winter_research/images\")\n",
    "subprocess.call([\n",
    "    'ffmpeg', '-framerate', '3', '-i', 'file%03d.png', '-r', '30', '-pix_fmt', 'yuv420p',\n",
    "    'animation.mp4'\n",
    "])"
   ]
  },
  {
   "cell_type": "code",
   "execution_count": 25,
   "id": "64d0ecc8",
   "metadata": {},
   "outputs": [],
   "source": [
    "# # # Remove all images generated - comment out to keep the images\n",
    "# for file_name in glob.glob(\"*.png\"):\n",
    "#     os.remove(file_name)"
   ]
  }
 ],
 "metadata": {
  "kernelspec": {
   "display_name": "Python 3",
   "language": "python",
   "name": "python3"
  },
  "language_info": {
   "codemirror_mode": {
    "name": "ipython",
    "version": 3
   },
   "file_extension": ".py",
   "mimetype": "text/x-python",
   "name": "python",
   "nbconvert_exporter": "python",
   "pygments_lexer": "ipython3",
   "version": "3.9.6"
  }
 },
 "nbformat": 4,
 "nbformat_minor": 5
}
